{
 "cells": [
  {
   "cell_type": "code",
   "execution_count": 6,
   "metadata": {
    "colab": {},
    "colab_type": "code",
    "id": "EPEBQBTzcZiS"
   },
   "outputs": [],
   "source": [
    "import os\n",
    "import re\n",
    "import PIL\n",
    "import sys\n",
    "import sls\n",
    "import cv2\n",
    "import json\n",
    "import time\n",
    "import glob\n",
    "import math\n",
    "import timm\n",
    "import copy\n",
    "import torch\n",
    "import pickle\n",
    "import geffnet\n",
    "import logging\n",
    "import fnmatch\n",
    "import argparse\n",
    "import itertools\n",
    "import torchvision\n",
    "import numpy as np\n",
    "%matplotlib inline\n",
    "import pandas as pd\n",
    "import seaborn as sns\n",
    "import torch.nn as nn\n",
    "from PIL import Image\n",
    "from glob import glob\n",
    "from pathlib import Path\n",
    "from copy import deepcopy\n",
    "from sklearn import metrics\n",
    "import torch.optim as optim\n",
    "from datetime import datetime\n",
    "import matplotlib.pyplot as plt\n",
    "import torch.nn.functional as F\n",
    "import torch.utils.data as data\n",
    "from torchvision import transforms\n",
    "from torch.autograd import Variable\n",
    "from tqdm import tqdm, tqdm_notebook\n",
    "from torch.optim import lr_scheduler\n",
    "import torch.utils.model_zoo as model_zoo\n",
    "from timm.models.layers.activations import *\n",
    "%config InlineBackend.figure_format = 'retina'\n",
    "from efficientnet_pytorch import EfficientNet\n",
    "from collections import OrderedDict, defaultdict\n",
    "from torchvision import transforms, models, datasets\n",
    "from torch.utils.data.sampler import SubsetRandomSampler\n",
    "device = torch.device(\"cuda:0\" if torch.cuda.is_available() else \"cpu\")\n",
    "from sklearn.metrics import classification_report, confusion_matrix,accuracy_score"
   ]
  },
  {
   "cell_type": "code",
   "execution_count": 2,
   "metadata": {
    "colab": {
     "base_uri": "https://localhost:8080/",
     "height": 68
    },
    "colab_type": "code",
    "id": "CA9wZQTds_Av",
    "outputId": "e34e2986-0c5f-4723-fe0a-60e01320e951"
   },
   "outputs": [
    {
     "name": "stdout",
     "output_type": "stream",
     "text": [
      "['COVID-19', 'normal', 'pneumonia']\n",
      "{'data': 15000}\n",
      "cuda:0\n",
      "{0: 'COVID-19', 1: 'normal', 2: 'pneumonia'}\n"
     ]
    },
    {
     "data": {
      "text/plain": [
       "torch.Size([4, 3, 224, 224])"
      ]
     },
     "execution_count": 2,
     "metadata": {},
     "output_type": "execute_result"
    }
   ],
   "source": [
    "data_dir = '/home/linh/Downloads/Covid-19'\n",
    "\n",
    "valid_dir = data_dir + \"/data\"\n",
    "\n",
    "# Define your transforms for the training and testing sets\n",
    "data_transforms = {  \n",
    "    'data':  transforms.Compose([\n",
    "             #transforms.RandomRotation(30),\n",
    "             transforms.Resize(256),\n",
    "             #transforms.RandomResizedCrop(224),        \n",
    "             transforms.CenterCrop(224),\n",
    "             #transforms.RandomHorizontalFlip(),\n",
    "             transforms.ToTensor(),\n",
    "             transforms.Normalize([0.485, 0.456, 0.406], \n",
    "                             [0.229, 0.224, 0.225])\n",
    "                                ])\n",
    "\n",
    "                    }\n",
    "\n",
    "# Load the datasets with ImageFolder\n",
    "image_datasets = {x: datasets.ImageFolder(os.path.join(data_dir, x),\n",
    "                                          data_transforms[x])\n",
    "                  for x in ['data']}\n",
    "\n",
    "batch_size = 4\n",
    "data_loader = {x: torch.utils.data.DataLoader(image_datasets[x], batch_size=batch_size,\n",
    "                                            shuffle=True, num_workers=4)\n",
    "              for x in ['data']}\n",
    "dataset_sizes = {x: len(image_datasets[x]) for x in ['data']}\n",
    "\n",
    "class_names = image_datasets['data'].classes\n",
    "print(class_names)\n",
    "print(dataset_sizes)\n",
    "print(device)\n",
    "\n",
    "\n",
    "### we get the class_to_index in the data_Set but what we really need is the cat_to_names  so we will create\n",
    "_ = image_datasets['data'].class_to_idx\n",
    "cat_to_name = {_[i]: i for i in list(_.keys())}\n",
    "print(cat_to_name)\n",
    "    \n",
    "# Run this to test the data loader\n",
    "images, labels = next(iter(data_loader['data']))\n",
    "images.size()"
   ]
  },
  {
   "cell_type": "markdown",
   "metadata": {},
   "source": [
    "# EfficientNet_B0 with image size=224"
   ]
  },
  {
   "cell_type": "code",
   "execution_count": 3,
   "metadata": {},
   "outputs": [
    {
     "name": "stdout",
     "output_type": "stream",
     "text": [
      "prediction time for complete in 8226 milisecond\n",
      "              precision    recall  f1-score   support\n",
      "\n",
      "           0   0.000000  0.000000  0.000000        10\n",
      "           1   0.942794  0.968362  0.955407       885\n",
      "           2   0.939655  0.917508  0.928450       594\n",
      "\n",
      "    accuracy                       0.941572      1489\n",
      "   macro avg   0.627483  0.628623  0.627952      1489\n",
      "weighted avg   0.935210  0.941572  0.938237      1489\n",
      "\n"
     ]
    },
    {
     "name": "stderr",
     "output_type": "stream",
     "text": [
      "/home/linh/.conda/envs/CV/lib/python3.6/site-packages/sklearn/metrics/classification.py:1437: UndefinedMetricWarning: Precision and F-score are ill-defined and being set to 0.0 in labels with no predicted samples.\n",
      "  'precision', 'predicted', average, warn_for)\n"
     ]
    },
    {
     "data": {
      "image/png": "[encoded data removed]",
      "text/plain": [
       "<Figure size 432x288 with 2 Axes>"
      ]
     },
     "metadata": {
      "image/png": {
       "height": 248,
       "width": 352
      },
      "needs_background": "light"
     },
     "output_type": "display_data"
    }
   ],
   "source": [
    "model = timm.create_model('efficientnet_b0', num_classes=4, checkpoint_path='/home/linh/Downloads/Covid-19/weights/EfficientNet_B0.pth')\n",
    "model.to(device)\n",
    "since = round(time.monotonic() * 1000)\n",
    "model.eval()\n",
    "y_test = []\n",
    "y_pred = []\n",
    "\n",
    "for i, (images, labels) in enumerate(data_loader['val']):\n",
    "    images = images.to(device)\n",
    "    labels = labels.to(device)\n",
    "    outputs = model(images)\n",
    "    _, predictions = outputs.max(1)\n",
    "    \n",
    "    y_test.append(labels.data.cpu().numpy())\n",
    "    y_pred.append(predictions.data.cpu().numpy())\n",
    "\n",
    "#set the end time to predict\n",
    "time_elapsed = round(time.monotonic() * 1000) - since   \n",
    "print('prediction time for complete in {:.0f} milisecond'.format(time_elapsed))\n",
    "#print('Prediction time to complete in {:.0f}m {:.0f}s'.format(time_elapsed // 60, time_elapsed % 60))\n",
    "\n",
    "#concat predicted results to be dataframe\n",
    "y_test = np.concatenate(y_test)\n",
    "y_pred = np.concatenate(y_pred)\n",
    "\n",
    "pd.DataFrame({'true_label':y_test,'predicted_label':y_pred}).to_csv('/home/linh/Downloads/Covid-19/results/EfficientNet_B0.csv',index=False)\n",
    "\n",
    "sns.heatmap(confusion_matrix(y_test, y_pred))\n",
    "# set accuracy score to control processes\n",
    "accuracy_score(y_test, y_pred)\n",
    "\n",
    "# Generate a classification report\n",
    "\n",
    "report = classification_report(y_test, y_pred, digits=6)\n",
    "print(report)"
   ]
  },
  {
   "cell_type": "markdown",
   "metadata": {},
   "source": [
    "# Modified EfficientNet_B0 with image size = 224"
   ]
  },
  {
   "cell_type": "code",
   "execution_count": 7,
   "metadata": {},
   "outputs": [
    {
     "name": "stdout",
     "output_type": "stream",
     "text": [
      "checkpoint loaded\n",
      "Training complete in 1m 49s\n",
      "              precision    recall  f1-score   support\n",
      "\n",
      "           0       0.99      0.73      0.84       108\n",
      "           1       0.94      0.99      0.97      8851\n",
      "           2       0.98      0.92      0.95      6041\n",
      "\n",
      "    accuracy                           0.96     15000\n",
      "   macro avg       0.97      0.88      0.92     15000\n",
      "weighted avg       0.96      0.96      0.96     15000\n",
      "\n"
     ]
    },
    {
     "data": {
      "image/png": "[encoded data removed]",
      "text/plain": [
       "<Figure size 432x288 with 2 Axes>"
      ]
     },
     "metadata": {
      "image/png": {
       "height": 248,
       "width": 359
      },
      "needs_background": "light"
     },
     "output_type": "display_data"
    }
   ],
   "source": [
    "#model = models.resnet50(pretrained=True)\n",
    "#model = timm.create_model('resnet50', pretrained=True)\n",
    "model = timm.create_model('efficientnet_b0', pretrained=True)\n",
    "#model.fc #show fully connected layer for ResNet family\n",
    "model.classifier #show the classifier layer (fully connected layer) for EfficientNets\n",
    "\n",
    "# Create classifier\n",
    "for param in model.parameters():\n",
    "    param.requires_grad = True\n",
    "# define `classifier` for ResNet\n",
    "# Otherwise, define `fc` for EfficientNet family \n",
    "#because the definition of the full connection/classifier of 2 CNN families is differnt\n",
    "fc = nn.Sequential(OrderedDict([('fc1', nn.Linear(2048, 1000, bias=True)),\n",
    "\t\t\t\t\t\t\t     ('BN1', nn.BatchNorm2d(1000, eps=1e-05, momentum=0.1, affine=True, track_running_stats=True)),\n",
    "\t\t\t\t\t\t\t\t ('dropout1', nn.Dropout(0.7)),\n",
    "                                 ('fc2', nn.Linear(1000, 512)),\n",
    "\t\t\t\t\t\t\t\t ('BN2', nn.BatchNorm2d(512, eps=1e-05, momentum=0.1, affine=True, track_running_stats=True)),\n",
    "\t\t\t\t\t\t\t\t ('swish1', Swish()),\n",
    "\t\t\t\t\t\t\t\t ('dropout2', nn.Dropout(0.5)),\n",
    "\t\t\t\t\t\t\t\t ('fc3', nn.Linear(512, 128)),\n",
    "\t\t\t\t\t\t\t\t ('BN3', nn.BatchNorm2d(128, eps=1e-05, momentum=0.1, affine=True, track_running_stats=True)),\n",
    "\t\t\t\t\t\t\t     ('swish2', Swish()),\n",
    "\t\t\t\t\t\t\t\t ('fc4', nn.Linear(128, 3)),\n",
    "\t\t\t\t\t\t\t\t ('output', nn.Softmax(dim=1))\n",
    "\t\t\t\t\t\t\t ]))\n",
    "# connect base model (EfficientNet_B0) with modified classifier layer\n",
    "model.fc = fc\n",
    "criterion = nn.CrossEntropyLoss()\n",
    "#optimizer = Nadam(model.parameters(), lr=0.001)\n",
    "#optimizer = optim.Adam(model.parameters(), lr=0.001, weight_decay=0.0001)\n",
    "optimizer = optim.SGD(model.parameters(), \n",
    "                      lr=0.01,momentum=0.9,\n",
    "                      nesterov=True,\n",
    "                      weight_decay=0.0001)\n",
    "scheduler = optim.lr_scheduler.StepLR(optimizer, step_size=30, gamma=0.1)\n",
    "#show our model architechture and send to GPU\n",
    "model.to(device)\n",
    "CHECK_POINT_PATH = '/home/linh/Downloads/Covid-19/weights/EfficientNet_B0_Covid-19.pth'\n",
    "try:\n",
    "    checkpoint = torch.load(CHECK_POINT_PATH)\n",
    "    print(\"checkpoint loaded\")\n",
    "except:\n",
    "    checkpoint = None\n",
    "    print(\"checkpoint not found\")\n",
    "\n",
    "def load_model(path):                                \n",
    "  model.load_state_dict(checkpoint['model_state_dict'])\n",
    "  best_model_wts = copy.deepcopy(model.state_dict())\n",
    "  optimizer.load_state_dict(checkpoint['optimizer_state_dict'])\n",
    "  scheduler.load_state_dict(checkpoint['scheduler_state_dict'])\n",
    "  best_loss = checkpoint['best_val_loss']\n",
    "  best_acc = checkpoint['best_val_accuracy']\n",
    "load_model(CHECK_POINT_PATH)  \n",
    "\n",
    "since = time.time()\n",
    "model.eval()\n",
    "y_test = []\n",
    "y_pred = []\n",
    "for images, labels in data_loader['data']:\n",
    "    images = Variable(images.cuda())\n",
    "    labels = Variable(labels.cuda())\n",
    "    outputs = model(images)\n",
    "    _, predictions = outputs.max(1)\n",
    "    \n",
    "    y_test.append(labels.data.cpu().numpy())\n",
    "    y_pred.append(predictions.data.cpu().numpy())\n",
    "    \n",
    "y_test = np.concatenate(y_test)\n",
    "y_pred = np.concatenate(y_pred)\n",
    "pd.DataFrame({'true_label':y_test,'predicted_label':y_pred}).to_csv('/home/linh/Downloads/Covid-19/results/Modified_EfficienNet_B0_Covid-19_Whole_Data.csv',index=False)\n",
    "\n",
    "time_elapsed = time.time() - since\n",
    "\n",
    "print('Training complete in {:.0f}m {:.0f}s'.format(time_elapsed // 60, time_elapsed % 60))\n",
    "\n",
    "sns.heatmap(confusion_matrix(y_test, y_pred))\n",
    "accuracy_score(y_test, y_pred)\n",
    "\n",
    "report = classification_report(y_test, y_pred)\n",
    "print(report)"
   ]
  },
  {
   "cell_type": "markdown",
   "metadata": {},
   "source": [
    "# EfficientNet_B4 with image size=380"
   ]
  },
  {
   "cell_type": "code",
   "execution_count": 3,
   "metadata": {},
   "outputs": [
    {
     "name": "stdout",
     "output_type": "stream",
     "text": [
      "prediction time for complete in 17995 milisecond\n",
      "              precision    recall  f1-score   support\n",
      "\n",
      "           0   0.000000  0.000000  0.000000        10\n",
      "           1   0.908894  0.946893  0.927504       885\n",
      "           2   0.930657  0.858586  0.893170       594\n",
      "           3   0.000000  0.000000  0.000000         0\n",
      "\n",
      "    accuracy                       0.905306      1489\n",
      "   macro avg   0.459888  0.451370  0.455169      1489\n",
      "weighted avg   0.911472  0.905306  0.907578      1489\n",
      "\n"
     ]
    },
    {
     "name": "stderr",
     "output_type": "stream",
     "text": [
      "/home/linh/.conda/envs/CV/lib/python3.6/site-packages/sklearn/metrics/classification.py:1439: UndefinedMetricWarning: Recall and F-score are ill-defined and being set to 0.0 in labels with no true samples.\n",
      "  'recall', 'true', average, warn_for)\n"
     ]
    },
    {
     "data": {
      "image/png": "[encoded data removed]",
      "text/plain": [
       "<Figure size 432x288 with 2 Axes>"
      ]
     },
     "metadata": {
      "image/png": {
       "height": 248,
       "width": 352
      },
      "needs_background": "light"
     },
     "output_type": "display_data"
    }
   ],
   "source": [
    "model = timm.create_model('efficientnet_b4', num_classes=4, checkpoint_path='/home/linh/Downloads/Covid-19/weights/EfficientNet_B4.pth')\n",
    "model.to(device)\n",
    "\n",
    "since = round(time.monotonic() * 1000)\n",
    "model.eval()\n",
    "y_test = []\n",
    "y_pred = []\n",
    "\n",
    "for i, (images, labels) in enumerate(data_loader['val']):\n",
    "    images = images.to(device)\n",
    "    labels = labels.to(device)\n",
    "    outputs = model(images)\n",
    "    _, predictions = outputs.max(1)\n",
    "    \n",
    "    y_test.append(labels.data.cpu().numpy())\n",
    "    y_pred.append(predictions.data.cpu().numpy())\n",
    "\n",
    "#set the end time to predict\n",
    "time_elapsed = round(time.monotonic() * 1000) - since   \n",
    "print('prediction time for complete in {:.0f} milisecond'.format(time_elapsed))\n",
    "#print('Prediction time to complete in {:.0f}m {:.0f}s'.format(time_elapsed // 60, time_elapsed % 60))\n",
    "\n",
    "#concat predicted results to be dataframe\n",
    "y_test = np.concatenate(y_test)\n",
    "y_pred = np.concatenate(y_pred)\n",
    "\n",
    "pd.DataFrame({'true_label':y_test,'predicted_label':y_pred}).to_csv('/home/linh/Downloads/Covid-19/results/EfficientNet_B4.csv',index=False)\n",
    "\n",
    "sns.heatmap(confusion_matrix(y_test, y_pred))\n",
    "# set accuracy score to control processes\n",
    "accuracy_score(y_test, y_pred)\n",
    "\n",
    "# Generate a classification report\n",
    "from sklearn.metrics import classification_report\n",
    "\n",
    "report = classification_report(y_test, y_pred, digits=6)\n",
    "print(report)"
   ]
  },
  {
   "cell_type": "markdown",
   "metadata": {},
   "source": [
    "# TRseNet_XL with image size=448"
   ]
  },
  {
   "cell_type": "code",
   "execution_count": 8,
   "metadata": {},
   "outputs": [
    {
     "name": "stdout",
     "output_type": "stream",
     "text": [
      "prediction time for complete in 33727 milisecond\n",
      "              precision    recall  f1-score   support\n",
      "\n",
      "           0   0.000000  0.000000  0.000000        10\n",
      "           1   0.590811  0.929944  0.722564       885\n",
      "           2   1.000000  0.013468  0.026578       594\n",
      "           3   0.000000  0.000000  0.000000         0\n",
      "\n",
      "    accuracy                       0.558093      1489\n",
      "   macro avg   0.397703  0.235853  0.187285      1489\n",
      "weighted avg   0.750079  0.558093  0.440065      1489\n",
      "\n"
     ]
    },
    {
     "data": {
      "image/png": "[encoded data removed]",
      "text/plain": [
       "<Figure size 432x288 with 2 Axes>"
      ]
     },
     "metadata": {
      "image/png": {
       "height": 248,
       "width": 352
      },
      "needs_background": "light"
     },
     "output_type": "display_data"
    }
   ],
   "source": [
    "model = timm.create_model('tresnet_xl', num_classes=4, checkpoint_path='/home/linh/Downloads/Covid-19/weights/TResNet_XL.pth')\n",
    "model.to(device)\n",
    "\n",
    "since = round(time.monotonic() * 1000)\n",
    "model.eval()\n",
    "y_test = []\n",
    "y_pred = []\n",
    "\n",
    "for i, (images, labels) in enumerate(data_loader['val']):\n",
    "    images = images.to(device)\n",
    "    labels = labels.to(device)\n",
    "    outputs = model(images)\n",
    "    _, predictions = outputs.max(1)\n",
    "    \n",
    "    y_test.append(labels.data.cpu().numpy())\n",
    "    y_pred.append(predictions.data.cpu().numpy())\n",
    "\n",
    "#set the end time to predict\n",
    "time_elapsed = round(time.monotonic() * 1000) - since   \n",
    "print('prediction time for complete in {:.0f} milisecond'.format(time_elapsed))\n",
    "#print('Prediction time to complete in {:.0f}m {:.0f}s'.format(time_elapsed // 60, time_elapsed % 60))\n",
    "\n",
    "#concat predicted results to be dataframe\n",
    "y_test = np.concatenate(y_test)\n",
    "y_pred = np.concatenate(y_pred)\n",
    "\n",
    "pd.DataFrame({'true_label':y_test,'predicted_label':y_pred}).to_csv('/home/linh/Downloads/Covid-19/results/TResNet_XL.csv',index=False)\n",
    "\n",
    "sns.heatmap(confusion_matrix(y_test, y_pred))\n",
    "# set accuracy score to control processes\n",
    "accuracy_score(y_test, y_pred)\n",
    "\n",
    "# Generate a classification report\n",
    "from sklearn.metrics import classification_report\n",
    "\n",
    "report = classification_report(y_test, y_pred, digits=6)\n",
    "print(report)"
   ]
  },
  {
   "cell_type": "markdown",
   "metadata": {},
   "source": [
    "# Ensemble voting of 3 models with image size = 224"
   ]
  },
  {
   "cell_type": "code",
   "execution_count": null,
   "metadata": {},
   "outputs": [],
   "source": [
    "Eff_B0 = timm.create_model('efficientnet_b0', num_classes=4, checkpoint_path='/home/linh/Downloads/Covid-19/weights/EfficientNet_B0.pth')\n",
    "Eff_B4 = timm.create_model('efficientnet_b4', num_classes=4, checkpoint_path='/home/linh/Downloads/Covid-19/weights/EfficientNet_B4.pth')"
   ]
  },
  {
   "cell_type": "code",
   "execution_count": null,
   "metadata": {},
   "outputs": [],
   "source": [
    "\n",
    "model = timm.create_model('efficientnet_b0', pretrained=True)\n",
    "#model.fc #show fully connected layer for ResNet family\n",
    "model.classifier #show the classifier layer (fully connected layer) for EfficientNets\n",
    "\n",
    "# Create classifier\n",
    "for param in model.parameters():\n",
    "    param.requires_grad = True\n",
    "# define `classifier` for ResNet\n",
    "# Otherwise, define `fc` for EfficientNet family \n",
    "#because the definition of the full connection/classifier of 2 CNN families is differnt\n",
    "fc = nn.Sequential(OrderedDict([('fc1', nn.Linear(2048, 1000, bias=True)),\n",
    "\t\t\t\t\t\t\t     ('BN1', nn.BatchNorm2d(1000, eps=1e-05, momentum=0.1, affine=True, track_running_stats=True)),\n",
    "\t\t\t\t\t\t\t\t ('dropout1', nn.Dropout(0.7)),\n",
    "                                 ('fc2', nn.Linear(1000, 512)),\n",
    "\t\t\t\t\t\t\t\t ('BN2', nn.BatchNorm2d(512, eps=1e-05, momentum=0.1, affine=True, track_running_stats=True)),\n",
    "\t\t\t\t\t\t\t\t ('swish1', Swish()),\n",
    "\t\t\t\t\t\t\t\t ('dropout2', nn.Dropout(0.5)),\n",
    "\t\t\t\t\t\t\t\t ('fc3', nn.Linear(512, 128)),\n",
    "\t\t\t\t\t\t\t\t ('BN3', nn.BatchNorm2d(128, eps=1e-05, momentum=0.1, affine=True, track_running_stats=True)),\n",
    "\t\t\t\t\t\t\t     ('swish2', Swish()),\n",
    "\t\t\t\t\t\t\t\t ('fc4', nn.Linear(128, 3)),\n",
    "\t\t\t\t\t\t\t\t ('output', nn.Softmax(dim=1))\n",
    "\t\t\t\t\t\t\t ]))\n",
    "# connect base model (EfficientNet_B0) with modified classifier layer\n",
    "model.fc = fc\n",
    "criterion = nn.CrossEntropyLoss()\n",
    "#optimizer = Nadam(model.parameters(), lr=0.001)\n",
    "#optimizer = optim.Adam(model.parameters(), lr=0.001, weight_decay=0.0001)\n",
    "optimizer = optim.SGD(model.parameters(), \n",
    "                      lr=0.01,momentum=0.9,\n",
    "                      nesterov=True,\n",
    "                      weight_decay=0.0001)\n",
    "scheduler = optim.lr_scheduler.StepLR(optimizer, step_size=30, gamma=0.1)\n",
    "#show our model architechture and send to GPU\n",
    "model.to(device)\n",
    "CHECK_POINT_PATH = '/home/linh/Downloads/Covide-19/weights/EfficientNet_B0_Covid-19.pth'\n",
    "try:\n",
    "    checkpoint = torch.load(CHECK_POINT_PATH)\n",
    "    print(\"checkpoint loaded\")\n",
    "except:\n",
    "    checkpoint = None\n",
    "    print(\"checkpoint not found\")\n",
    "\n",
    "def load_model(path):                                \n",
    "  model.load_state_dict(checkpoint['model_state_dict'])\n",
    "  best_model_wts = copy.deepcopy(model.state_dict())\n",
    "  optimizer.load_state_dict(checkpoint['optimizer_state_dict'])\n",
    "  scheduler.load_state_dict(checkpoint['scheduler_state_dict'])\n",
    "  best_loss = checkpoint['best_val_loss']\n",
    "  best_acc = checkpoint['best_val_accuracy']\n",
    "    \n",
    "Mod_Eff_B0 = load_model(CHECK_POINT_PATH)  "
   ]
  },
  {
   "cell_type": "code",
   "execution_count": null,
   "metadata": {},
   "outputs": [],
   "source": [
    "class Ensemble_Model(nn.Module):\n",
    "    def __init__(self):\n",
    "        super(Ensemble_Model, self).__init__()\n",
    "        self.Eff_B0 = Eff_B0()\n",
    "        self.Mod_Eff_B0 = Mod_Eff_B0\n",
    "        self.Eff_B4 = Eff_B4()\n",
    "        \n",
    "    def forward(self, x):\n",
    "        x1 = self.Eff_B0(x)\n",
    "        x2 = self.Mod_Eff_B0(x)\n",
    "        x3 = self.Eff_B4(x)\n",
    "        x = sum([x1, x2, x3]) / 3\n",
    "        return x\n",
    "    \n",
    "model = Ensemble_Model()\n",
    "model,to(device)\n",
    "model.eval()"
   ]
  },
  {
   "cell_type": "code",
   "execution_count": null,
   "metadata": {},
   "outputs": [],
   "source": [
    "since = round(time.monotonic() * 1000)\n",
    "model.eval()\n",
    "y_test = []\n",
    "y_pred = []\n",
    "\n",
    "for i, (images, labels) in enumerate(data_loader['data']):\n",
    "    images = images.to(device)\n",
    "    labels = labels.to(device)\n",
    "    outputs = model(images)\n",
    "    _, predictions = outputs.max(1)\n",
    "    \n",
    "    y_test.append(labels.data.cpu().numpy())\n",
    "    y_pred.append(predictions.data.cpu().numpy())\n",
    "\n",
    "#set the end time to predict\n",
    "time_elapsed = round(time.monotonic() * 1000) - since   \n",
    "print('prediction time for complete in {:.0f} milisecond'.format(time_elapsed))\n",
    "#print('Prediction time to complete in {:.0f}m {:.0f}s'.format(time_elapsed // 60, time_elapsed % 60))\n",
    "\n",
    "#concat predicted results to be dataframe\n",
    "y_test = np.concatenate(y_test)\n",
    "y_pred = np.concatenate(y_pred)\n",
    "\n",
    "pd.DataFrame({'true_label':y_test,'predicted_label':y_pred}).to_csv('/home/linh/Downloads/Covid-19/results/Ensemble_Eff_B0_Eff_B4_Mod_Eff_B0_Whole_Data.csv',index=False)\n",
    "\n",
    "sns.heatmap(confusion_matrix(y_test, y_pred))\n",
    "# set accuracy score to control processes\n",
    "accuracy_score(y_test, y_pred)\n",
    "\n",
    "# Generate a classification report\n",
    "from sklearn.metrics import classification_report\n",
    "\n",
    "report = classification_report(y_test, y_pred, digits=6)\n",
    "print(report)"
   ]
  }
 ],
 "metadata": {
  "accelerator": "GPU",
  "colab": {
   "collapsed_sections": [],
   "name": "Metrics_for_EfficientNets.ipynb",
   "provenance": []
  },
  "kernelspec": {
   "display_name": "Python 3",
   "language": "python",
   "name": "python3"
  },
  "language_info": {
   "codemirror_mode": {
    "name": "ipython",
    "version": 3
   },
   "file_extension": ".py",
   "mimetype": "text/x-python",
   "name": "python",
   "nbconvert_exporter": "python",
   "pygments_lexer": "ipython3",
   "version": "3.6.9"
  }
 },
 "nbformat": 4,
 "nbformat_minor": 4
}
